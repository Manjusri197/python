{
  "nbformat": 4,
  "nbformat_minor": 0,
  "metadata": {
    "colab": {
      "name": "Swap.ipynb",
      "provenance": [],
      "authorship_tag": "ABX9TyOwgMHgCyqFikar82dgHl3t",
      "include_colab_link": true
    },
    "kernelspec": {
      "name": "python3",
      "display_name": "Python 3"
    },
    "language_info": {
      "name": "python"
    }
  },
  "cells": [
    {
      "cell_type": "markdown",
      "metadata": {
        "id": "view-in-github",
        "colab_type": "text"
      },
      "source": [
        "<a href=\"https://colab.research.google.com/github/Manjusri197/python/blob/main/Swap.ipynb\" target=\"_parent\"><img src=\"https://colab.research.google.com/assets/colab-badge.svg\" alt=\"Open In Colab\"/></a>"
      ]
    },
    {
      "cell_type": "code",
      "metadata": {
        "colab": {
          "base_uri": "https://localhost:8080/"
        },
        "id": "oCPuXwujgUM1",
        "outputId": "8346360b-89ad-4b77-8502-0a7dcea74d84"
      },
      "source": [
        " \n",
        "a=20\n",
        "b=15\n",
        "print(\"Before Swapping\")\n",
        "print(\"a=\",a)\n",
        "print(\"b=\",b)\n",
        "temp=a\n",
        "a=b\n",
        "b=temp\n",
        "print(\"After Swapping\")\n",
        "print(\"a=\",a)\n",
        "print(\"b=\",b)"
      ],
      "execution_count": 1,
      "outputs": [
        {
          "output_type": "stream",
          "text": [
            "Before Swapping\n",
            "a= 20\n",
            "b= 15\n",
            "After Swapping\n",
            "a= 15\n",
            "b= 20\n"
          ],
          "name": "stdout"
        }
      ]
    },
    {
      "cell_type": "code",
      "metadata": {
        "id": "WP8wd87DgY52"
      },
      "source": [
        ""
      ],
      "execution_count": null,
      "outputs": []
    }
  ]
}