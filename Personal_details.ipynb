{
  "nbformat": 4,
  "nbformat_minor": 0,
  "metadata": {
    "colab": {
      "name": "Personal details.ipynb",
      "provenance": [],
      "authorship_tag": "ABX9TyOh4S125MaK3A6G9k247lEg",
      "include_colab_link": true
    },
    "kernelspec": {
      "name": "python3",
      "display_name": "Python 3"
    },
    "language_info": {
      "name": "python"
    }
  },
  "cells": [
    {
      "cell_type": "markdown",
      "metadata": {
        "id": "view-in-github",
        "colab_type": "text"
      },
      "source": [
        "<a href=\"https://colab.research.google.com/github/Manjusri197/python/blob/main/Personal_details.ipynb\" target=\"_parent\"><img src=\"https://colab.research.google.com/assets/colab-badge.svg\" alt=\"Open In Colab\"/></a>"
      ]
    },
    {
      "cell_type": "code",
      "metadata": {
        "colab": {
          "base_uri": "https://localhost:8080/"
        },
        "id": "AaDE1SK2fthq",
        "outputId": "6ac6bd46-b2af-4256-9ec8-3ba503d1ca42"
      },
      "source": [
        " \n",
        "name=(input(\"Enter your Name : \"))\n",
        "age=(input(\"Enter your Age : \"))\n",
        "address=(input(\"Enter your Address : \"))\n",
        "salary=(input(\"Enter your Salary : \"))\n",
        "no=(input(\"Enter your Mobile Number\"))\n",
        "print(\"NAME :\",name)\n",
        "print(\"\\nAGE :\",age)\n",
        "print(\"\\nADDRESS :\",address)\n",
        "print(\"\\nSALARY :\",salary)\n",
        "print(\"\\nMOBILE NUMBER :\",no)"
      ],
      "execution_count": 1,
      "outputs": [
        {
          "output_type": "stream",
          "text": [
            "Enter your Name : Manjusri \n",
            "Enter your Age : 20\n",
            "Enter your Address : Erode\n",
            "Enter your Salary : 20,000\n",
            "Enter your Mobile Number9847652367\n",
            "NAME : Manjusri \n",
            "\n",
            "AGE : 20\n",
            "\n",
            "ADDRESS : Erode\n",
            "\n",
            "SALARY : 20,000\n",
            "\n",
            "MOBILE NUMBER : 9847652367\n"
          ],
          "name": "stdout"
        }
      ]
    }
  ]
}