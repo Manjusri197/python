{
  "nbformat": 4,
  "nbformat_minor": 0,
  "metadata": {
    "colab": {
      "name": "Reverse string.ipynb",
      "provenance": [],
      "authorship_tag": "ABX9TyON6Zb4jLdl2HkYEkiWXbSq",
      "include_colab_link": true
    },
    "kernelspec": {
      "name": "python3",
      "display_name": "Python 3"
    },
    "language_info": {
      "name": "python"
    }
  },
  "cells": [
    {
      "cell_type": "markdown",
      "metadata": {
        "id": "view-in-github",
        "colab_type": "text"
      },
      "source": [
        "<a href=\"https://colab.research.google.com/github/Manjusri197/python/blob/main/Reverse_string.ipynb\" target=\"_parent\"><img src=\"https://colab.research.google.com/assets/colab-badge.svg\" alt=\"Open In Colab\"/></a>"
      ]
    },
    {
      "cell_type": "code",
      "metadata": {
        "colab": {
          "base_uri": "https://localhost:8080/"
        },
        "id": "BlSUTcnHggnf",
        "outputId": "a3bf770e-81e9-4682-f3c6-108992e6c1ad"
      },
      "source": [
        " \n",
        "a=(input(\"Enter Sentence : \"))\n",
        "b=a[::-1]\n",
        "print(\"Reverse Sentence\")\n",
        "print(\"\\n\",b)"
      ],
      "execution_count": 1,
      "outputs": [
        {
          "output_type": "stream",
          "text": [
            "Enter Sentence : Artificial intelligence \n",
            "Reverse Sentence\n",
            "\n",
            "  ecnegilletni laicifitrA\n"
          ],
          "name": "stdout"
        }
      ]
    }
  ]
}