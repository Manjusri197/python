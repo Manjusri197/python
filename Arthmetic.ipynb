{
  "nbformat": 4,
  "nbformat_minor": 0,
  "metadata": {
    "colab": {
      "name": "Arthmetic.ipynb",
      "provenance": [],
      "authorship_tag": "ABX9TyMhGIx28+qerTigUFTYyOEu",
      "include_colab_link": true
    },
    "kernelspec": {
      "name": "python3",
      "display_name": "Python 3"
    },
    "language_info": {
      "name": "python"
    }
  },
  "cells": [
    {
      "cell_type": "markdown",
      "metadata": {
        "id": "view-in-github",
        "colab_type": "text"
      },
      "source": [
        "<a href=\"https://colab.research.google.com/github/Manjusri197/python/blob/main/Arthmetic.ipynb\" target=\"_parent\"><img src=\"https://colab.research.google.com/assets/colab-badge.svg\" alt=\"Open In Colab\"/></a>"
      ]
    },
    {
      "cell_type": "code",
      "metadata": {
        "colab": {
          "base_uri": "https://localhost:8080/"
        },
        "id": "dfabusxxephu",
        "outputId": "340eb604-0029-400a-a7f6-1540400d5ab9"
      },
      "source": [
        " \n",
        "X=int(input(\"Enter num1=\"))\n",
        "Y=int(input(\"Enter num2=\"))\n",
        "print(\"Addition=\",X+Y)\n",
        "print(\"Subtraction=\",X-Y)\n",
        "print(\"Multiplication=\",X*Y)\n",
        "print(\"Division=\",X/Y)"
      ],
      "execution_count": 2,
      "outputs": [
        {
          "output_type": "stream",
          "text": [
            "Enter num1=7\n",
            "Enter num2=6\n",
            "Addition= 13\n",
            "Subtraction= 1\n",
            "Multiplication= 42\n",
            "Division= 1.1666666666666667\n"
          ],
          "name": "stdout"
        }
      ]
    }
  ]
}